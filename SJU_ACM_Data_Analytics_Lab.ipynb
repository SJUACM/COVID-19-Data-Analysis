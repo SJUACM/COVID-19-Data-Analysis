{
  "nbformat": 4,
  "nbformat_minor": 0,
  "metadata": {
    "colab": {
      "name": "SJU ACM Data Analytics Lab.ipynb",
      "provenance": [],
      "collapsed_sections": []
    },
    "kernelspec": {
      "name": "python3",
      "display_name": "Python 3"
    },
    "language_info": {
      "name": "python"
    }
  },
  "cells": [
    {
      "cell_type": "markdown",
      "metadata": {
        "id": "pbnMBbpHjYBu"
      },
      "source": [
        "# COVID-19 Data Visualizations\n",
        "\n",
        "### Instructions to Run the Code:\n",
        "\n",
        "- Download the dataset by clicking [here](https://covid.ourworldindata.org/data/owid-covid-data.csv)\n",
        "- Upload the downloaded CSV file to the session storage\n",
        "\n",
        "- Click on 'Runtime' on the top menu and then 'Run all'\n",
        "\n",
        "- You can run individual cells by clicking within a cell and pressing Shift and Enter at the same time\n"
      ]
    },
    {
      "cell_type": "code",
      "metadata": {
        "id": "wPE8plb-jTqd"
      },
      "source": [
        "# Necessary imports\n",
        "\n",
        "import math\n",
        "import pandas as pd\n",
        "import matplotlib\n",
        "import matplotlib.pyplot as plt\n",
        "from matplotlib.pyplot import figure\n",
        "\n",
        "from datetime import datetime\n",
        "import plotly.graph_objects as go\n",
        "import plotly.express as px\n",
        "import numpy as np\n",
        "from ipywidgets import interactive\n",
        "import ipywidgets as widgets\n",
        "from IPython.display import display, clear_output\n",
        "from ipywidgets import interact, Layout\n",
        "from bokeh.io import output_notebook\n",
        "from prettytable import PrettyTable\n",
        "import locale\n",
        "import warnings\n",
        "\n",
        "warnings.filterwarnings('ignore')\n",
        "\n",
        "# For number formatting \n",
        "locale.setlocale(locale.LC_ALL, '') \n",
        "\n",
        "# Call once to configure Bokeh to display plots inline in the notebook\n",
        "output_notebook()\n",
        "\n",
        "# Style of plots\n",
        "matplotlib.style.use('seaborn')"
      ],
      "execution_count": null,
      "outputs": []
    }
  ]
}